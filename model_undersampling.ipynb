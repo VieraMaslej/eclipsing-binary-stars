{
 "cells": [
  {
   "cell_type": "markdown",
   "metadata": {},
   "source": [
    "# Automatic classification of eclipsing binary stars using deep learning methods"
   ]
  },
  {
   "cell_type": "markdown",
   "metadata": {},
   "source": [
    "## Experiment 2\n",
    "### Undersampling dataset"
   ]
  },
  {
   "cell_type": "code",
   "execution_count": 6,
   "metadata": {},
   "outputs": [],
   "source": [
    "import numpy as np\n",
    "import pandas as pd\n",
    "import json\n",
    "import pickle\n",
    "np.random.seed(1234)\n",
    "\n",
    "from keras.utils import np_utils\n",
    "from keras.models import load_model\n",
    "from sklearn.metrics import confusion_matrix, classification_report\n",
    "from sklearn.metrics import precision_recall_fscore_support\n",
    "from sklearn.model_selection import train_test_split\n",
    "\n",
    "from keras.layers import Conv1D, GlobalMaxPooling1D, MaxPooling1D, SpatialDropout1D, GlobalAveragePooling1D\n",
    "from keras.layers import Input, Dense, concatenate, Activation, LSTM, Bidirectional, Flatten, Dropout\n",
    "from keras.models import Model\n",
    "from keras.models import Sequential\n",
    "from keras.layers.merge import Concatenate\n",
    "from tensorflow.keras.callbacks import ModelCheckpoint, EarlyStopping\n",
    "import matplotlib.pyplot as plt\n",
    "\n",
    "import imblearn\n",
    "from imblearn import under_sampling, over_sampling\n",
    "from imblearn.under_sampling import RandomUnderSampler\n",
    "from collections import Counter"
   ]
  },
  {
   "cell_type": "markdown",
   "metadata": {},
   "source": [
    "     - load synthetic light curve - ELISa\n"
   ]
  },
  {
   "cell_type": "code",
   "execution_count": 7,
   "metadata": {},
   "outputs": [
    {
     "data": {
      "text/html": [
       "<div>\n",
       "<style scoped>\n",
       "    .dataframe tbody tr th:only-of-type {\n",
       "        vertical-align: middle;\n",
       "    }\n",
       "\n",
       "    .dataframe tbody tr th {\n",
       "        vertical-align: top;\n",
       "    }\n",
       "\n",
       "    .dataframe thead th {\n",
       "        text-align: right;\n",
       "    }\n",
       "</style>\n",
       "<table border=\"1\" class=\"dataframe\">\n",
       "  <thead>\n",
       "    <tr style=\"text-align: right;\">\n",
       "      <th></th>\n",
       "      <th>Unnamed: 0</th>\n",
       "      <th>id</th>\n",
       "      <th>morphology</th>\n",
       "      <th>params</th>\n",
       "      <th>phases</th>\n",
       "      <th>generic_bessell_b</th>\n",
       "      <th>generic_bessell_v</th>\n",
       "      <th>generic_bessell_r</th>\n",
       "      <th>primary_t_eff</th>\n",
       "      <th>secondary_t_eff</th>\n",
       "      <th>primary_surface_potential</th>\n",
       "      <th>secondary_surface_potential</th>\n",
       "      <th>primary_mass</th>\n",
       "      <th>secondary_mass</th>\n",
       "      <th>period</th>\n",
       "      <th>inclination</th>\n",
       "      <th>spotty</th>\n",
       "    </tr>\n",
       "  </thead>\n",
       "  <tbody>\n",
       "    <tr>\n",
       "      <th>0</th>\n",
       "      <td>0</td>\n",
       "      <td>1</td>\n",
       "      <td>over-contact</td>\n",
       "      <td>{\"system\": {\"inclination\": 35.0, \"period\": 0.2...</td>\n",
       "      <td>[-0.6, -0.5878787878787879, -0.575757575757575...</td>\n",
       "      <td>[4.081591544439083e+23, 4.031652090826959e+23,...</td>\n",
       "      <td>[9.873049593587627e+23, 9.760395127000434e+23,...</td>\n",
       "      <td>[1.3747087279830434e+24, 1.3597310499829646e+2...</td>\n",
       "      <td>4000.0</td>\n",
       "      <td>4000.0</td>\n",
       "      <td>3.25</td>\n",
       "      <td>3.25</td>\n",
       "      <td>0.5</td>\n",
       "      <td>0.5</td>\n",
       "      <td>0.2</td>\n",
       "      <td>35.0</td>\n",
       "      <td>1</td>\n",
       "    </tr>\n",
       "    <tr>\n",
       "      <th>1</th>\n",
       "      <td>1</td>\n",
       "      <td>2</td>\n",
       "      <td>over-contact</td>\n",
       "      <td>{\"system\": {\"inclination\": 35.0, \"period\": 0.3...</td>\n",
       "      <td>[-0.6, -0.5878787878787879, -0.575757575757575...</td>\n",
       "      <td>[6.858420674472336e+23, 6.77839214297677e+23, ...</td>\n",
       "      <td>[1.6727093360156839e+24, 1.6546225148187935e+2...</td>\n",
       "      <td>[2.3229246430355212e+24, 2.2990574599057018e+2...</td>\n",
       "      <td>4000.0</td>\n",
       "      <td>4000.0</td>\n",
       "      <td>3.25</td>\n",
       "      <td>3.25</td>\n",
       "      <td>0.5</td>\n",
       "      <td>0.5</td>\n",
       "      <td>0.3</td>\n",
       "      <td>35.0</td>\n",
       "      <td>1</td>\n",
       "    </tr>\n",
       "    <tr>\n",
       "      <th>2</th>\n",
       "      <td>2</td>\n",
       "      <td>3</td>\n",
       "      <td>over-contact</td>\n",
       "      <td>{\"system\": {\"inclination\": 35.0, \"period\": 0.2...</td>\n",
       "      <td>[-0.6, -0.5878787878787879, -0.575757575757575...</td>\n",
       "      <td>[4.154670345913387e+23, 4.1078852654519154e+23...</td>\n",
       "      <td>[1.0057136315963416e+24, 9.95135723875756e+23,...</td>\n",
       "      <td>[1.3991268037182663e+24, 1.3849947154567012e+2...</td>\n",
       "      <td>4000.0</td>\n",
       "      <td>4000.0</td>\n",
       "      <td>3.25</td>\n",
       "      <td>3.25</td>\n",
       "      <td>0.5</td>\n",
       "      <td>0.5</td>\n",
       "      <td>0.2</td>\n",
       "      <td>35.0</td>\n",
       "      <td>0</td>\n",
       "    </tr>\n",
       "    <tr>\n",
       "      <th>3</th>\n",
       "      <td>3</td>\n",
       "      <td>4</td>\n",
       "      <td>over-contact</td>\n",
       "      <td>{\"system\": {\"inclination\": 35.0, \"period\": 0.3...</td>\n",
       "      <td>[-0.6, -0.5878787878787879, -0.575757575757575...</td>\n",
       "      <td>[6.87545071052127e+23, 6.795238703023904e+23, ...</td>\n",
       "      <td>[1.6766406596411532e+24, 1.6585336954130392e+2...</td>\n",
       "      <td>[2.3278600928811596e+24, 2.3039841455496383e+2...</td>\n",
       "      <td>4000.0</td>\n",
       "      <td>4000.0</td>\n",
       "      <td>3.25</td>\n",
       "      <td>3.25</td>\n",
       "      <td>0.5</td>\n",
       "      <td>0.5</td>\n",
       "      <td>0.3</td>\n",
       "      <td>35.0</td>\n",
       "      <td>0</td>\n",
       "    </tr>\n",
       "    <tr>\n",
       "      <th>4</th>\n",
       "      <td>4</td>\n",
       "      <td>5</td>\n",
       "      <td>over-contact</td>\n",
       "      <td>{\"system\": {\"inclination\": 35.0, \"period\": 0.5...</td>\n",
       "      <td>[-0.6, -0.5878787878787879, -0.575757575757575...</td>\n",
       "      <td>[1.496209461064851e+24, 1.4832596392814377e+24...</td>\n",
       "      <td>[3.6264470413553653e+24, 3.5968159381407736e+2...</td>\n",
       "      <td>[4.938565049205014e+24, 4.898473393857681e+24,...</td>\n",
       "      <td>4000.0</td>\n",
       "      <td>4000.0</td>\n",
       "      <td>3.25</td>\n",
       "      <td>3.25</td>\n",
       "      <td>0.5</td>\n",
       "      <td>0.5</td>\n",
       "      <td>0.5</td>\n",
       "      <td>35.0</td>\n",
       "      <td>1</td>\n",
       "    </tr>\n",
       "  </tbody>\n",
       "</table>\n",
       "</div>"
      ],
      "text/plain": [
       "   Unnamed: 0  id    morphology  \\\n",
       "0           0   1  over-contact   \n",
       "1           1   2  over-contact   \n",
       "2           2   3  over-contact   \n",
       "3           3   4  over-contact   \n",
       "4           4   5  over-contact   \n",
       "\n",
       "                                              params  \\\n",
       "0  {\"system\": {\"inclination\": 35.0, \"period\": 0.2...   \n",
       "1  {\"system\": {\"inclination\": 35.0, \"period\": 0.3...   \n",
       "2  {\"system\": {\"inclination\": 35.0, \"period\": 0.2...   \n",
       "3  {\"system\": {\"inclination\": 35.0, \"period\": 0.3...   \n",
       "4  {\"system\": {\"inclination\": 35.0, \"period\": 0.5...   \n",
       "\n",
       "                                              phases  \\\n",
       "0  [-0.6, -0.5878787878787879, -0.575757575757575...   \n",
       "1  [-0.6, -0.5878787878787879, -0.575757575757575...   \n",
       "2  [-0.6, -0.5878787878787879, -0.575757575757575...   \n",
       "3  [-0.6, -0.5878787878787879, -0.575757575757575...   \n",
       "4  [-0.6, -0.5878787878787879, -0.575757575757575...   \n",
       "\n",
       "                                   generic_bessell_b  \\\n",
       "0  [4.081591544439083e+23, 4.031652090826959e+23,...   \n",
       "1  [6.858420674472336e+23, 6.77839214297677e+23, ...   \n",
       "2  [4.154670345913387e+23, 4.1078852654519154e+23...   \n",
       "3  [6.87545071052127e+23, 6.795238703023904e+23, ...   \n",
       "4  [1.496209461064851e+24, 1.4832596392814377e+24...   \n",
       "\n",
       "                                   generic_bessell_v  \\\n",
       "0  [9.873049593587627e+23, 9.760395127000434e+23,...   \n",
       "1  [1.6727093360156839e+24, 1.6546225148187935e+2...   \n",
       "2  [1.0057136315963416e+24, 9.95135723875756e+23,...   \n",
       "3  [1.6766406596411532e+24, 1.6585336954130392e+2...   \n",
       "4  [3.6264470413553653e+24, 3.5968159381407736e+2...   \n",
       "\n",
       "                                   generic_bessell_r  primary_t_eff  \\\n",
       "0  [1.3747087279830434e+24, 1.3597310499829646e+2...         4000.0   \n",
       "1  [2.3229246430355212e+24, 2.2990574599057018e+2...         4000.0   \n",
       "2  [1.3991268037182663e+24, 1.3849947154567012e+2...         4000.0   \n",
       "3  [2.3278600928811596e+24, 2.3039841455496383e+2...         4000.0   \n",
       "4  [4.938565049205014e+24, 4.898473393857681e+24,...         4000.0   \n",
       "\n",
       "   secondary_t_eff  primary_surface_potential  secondary_surface_potential  \\\n",
       "0           4000.0                       3.25                         3.25   \n",
       "1           4000.0                       3.25                         3.25   \n",
       "2           4000.0                       3.25                         3.25   \n",
       "3           4000.0                       3.25                         3.25   \n",
       "4           4000.0                       3.25                         3.25   \n",
       "\n",
       "   primary_mass  secondary_mass  period  inclination  spotty  \n",
       "0           0.5             0.5     0.2         35.0       1  \n",
       "1           0.5             0.5     0.3         35.0       1  \n",
       "2           0.5             0.5     0.2         35.0       0  \n",
       "3           0.5             0.5     0.3         35.0       0  \n",
       "4           0.5             0.5     0.5         35.0       1  "
      ]
     },
     "execution_count": 7,
     "metadata": {},
     "output_type": "execute_result"
    }
   ],
   "source": [
    "data = pd.read_csv('../df_all.csv_v2')\n",
    "data.head()"
   ]
  },
  {
   "cell_type": "markdown",
   "metadata": {},
   "source": [
    "    -  select and normalize data"
   ]
  },
  {
   "cell_type": "code",
   "execution_count": 48,
   "metadata": {},
   "outputs": [],
   "source": [
    "data=data[data['spotty']==0]\n",
    "\n",
    "for row in data['generic_bessell_v']:\n",
    "     row = json.loads(row)\n",
    "\n",
    "newData = []\n",
    "for row in data['generic_bessell_v']:\n",
    "    row = json.loads(row)\n",
    "    minValueOfRow, maxValueOfRow = min(row), max(row)\n",
    "    newRow = []\n",
    "    for valueIndex in range(len(row)):\n",
    "        row[valueIndex] = (row[valueIndex] - minValueOfRow) / (maxValueOfRow - minValueOfRow)\n",
    "        newRow.append([row[valueIndex]])\n",
    "    newData.append(newRow) \n",
    "    \n",
    "newData = np.array(newData)"
   ]
  },
  {
   "cell_type": "markdown",
   "metadata": {},
   "source": [
    "    - target by morphology"
   ]
  },
  {
   "cell_type": "code",
   "execution_count": 49,
   "metadata": {},
   "outputs": [],
   "source": [
    "target = []\n",
    "oc, dt = 0, 0\n",
    "for row in data['morphology']:\n",
    "    if row == 'over-contact':\n",
    "        target.append(0)\n",
    "        oc += 1\n",
    "    elif row == 'detached':\n",
    "        target.append(1)\n",
    "        dt += 1      \n",
    "target = np.array(target)"
   ]
  },
  {
   "cell_type": "markdown",
   "metadata": {},
   "source": [
    "    - control the shape and check if the dataset is imbalanced"
   ]
  },
  {
   "cell_type": "code",
   "execution_count": 64,
   "metadata": {},
   "outputs": [
    {
     "name": "stdout",
     "output_type": "stream",
     "text": [
      "(491425,)\n",
      "(491425, 100, 1)\n",
      "Counter({1: 445556, 0: 45869})\n"
     ]
    }
   ],
   "source": [
    "print(target.shape)\n",
    "print(newData.shape)\n",
    "print(Counter(target))"
   ]
  },
  {
   "cell_type": "markdown",
   "metadata": {},
   "source": [
    "    - define undersample strategy\n",
    "    - fit and apply the transform"
   ]
  },
  {
   "cell_type": "code",
   "execution_count": 51,
   "metadata": {},
   "outputs": [],
   "source": [
    "undersample = RandomUnderSampler(sampling_strategy='majority')\n",
    "X_over, y_over = undersample.fit_resample(newData[:,:,0], target)"
   ]
  },
  {
   "cell_type": "code",
   "execution_count": 65,
   "metadata": {},
   "outputs": [
    {
     "name": "stdout",
     "output_type": "stream",
     "text": [
      "(91738, 100)\n",
      "(91738,)\n",
      "Counter({0: 45869, 1: 45869})\n"
     ]
    }
   ],
   "source": [
    "print(X_over.shape)\n",
    "print(y_over.shape)\n",
    "print(Counter(y_over))"
   ]
  },
  {
   "cell_type": "markdown",
   "metadata": {},
   "source": [
    "    - add dimension to sequences\n",
    "    - transform targets to categorical"
   ]
  },
  {
   "cell_type": "code",
   "execution_count": 54,
   "metadata": {},
   "outputs": [],
   "source": [
    "y_over1 = np_utils.to_categorical(y_over, 2)\n",
    "X_over1 = X_over[:, :, np.newaxis]"
   ]
  },
  {
   "cell_type": "code",
   "execution_count": 66,
   "metadata": {},
   "outputs": [
    {
     "name": "stdout",
     "output_type": "stream",
     "text": [
      "(91738, 100, 1)\n",
      "(91738, 2)\n",
      "Counter({0: 45869, 1: 45869})\n"
     ]
    }
   ],
   "source": [
    "print(X_over1.shape)\n",
    "print(y_over1.shape)\n",
    "print(Counter(y_over))"
   ]
  },
  {
   "cell_type": "markdown",
   "metadata": {},
   "source": [
    "## Best model -> biLSTM + CNN"
   ]
  },
  {
   "cell_type": "code",
   "execution_count": 57,
   "metadata": {},
   "outputs": [
    {
     "name": "stdout",
     "output_type": "stream",
     "text": [
      "WARNING:tensorflow:Layer lstm_1 will not use cuDNN kernel since it doesn't meet the cuDNN kernel criteria. It will use generic GPU kernel as fallback when running on GPU\n",
      "WARNING:tensorflow:Layer lstm_1 will not use cuDNN kernel since it doesn't meet the cuDNN kernel criteria. It will use generic GPU kernel as fallback when running on GPU\n",
      "WARNING:tensorflow:Layer lstm_1 will not use cuDNN kernel since it doesn't meet the cuDNN kernel criteria. It will use generic GPU kernel as fallback when running on GPU\n",
      "Model: \"functional_3\"\n",
      "__________________________________________________________________________________________________\n",
      "Layer (type)                    Output Shape         Param #     Connected to                     \n",
      "==================================================================================================\n",
      "input_2 (InputLayer)            [(None, 100, 1)]     0                                            \n",
      "__________________________________________________________________________________________________\n",
      "conv1d_2 (Conv1D)               (None, 98, 32)       128         input_2[0][0]                    \n",
      "__________________________________________________________________________________________________\n",
      "max_pooling1d_2 (MaxPooling1D)  (None, 49, 32)       0           conv1d_2[0][0]                   \n",
      "__________________________________________________________________________________________________\n",
      "conv1d_3 (Conv1D)               (None, 47, 32)       3104        max_pooling1d_2[0][0]            \n",
      "__________________________________________________________________________________________________\n",
      "bidirectional_1 (Bidirectional) (None, 100, 128)     33792       input_2[0][0]                    \n",
      "__________________________________________________________________________________________________\n",
      "max_pooling1d_3 (MaxPooling1D)  (None, 23, 32)       0           conv1d_3[0][0]                   \n",
      "__________________________________________________________________________________________________\n",
      "flatten_2 (Flatten)             (None, 12800)        0           bidirectional_1[0][0]            \n",
      "__________________________________________________________________________________________________\n",
      "flatten_3 (Flatten)             (None, 736)          0           max_pooling1d_3[0][0]            \n",
      "__________________________________________________________________________________________________\n",
      "concatenate_1 (Concatenate)     (None, 13536)        0           flatten_2[0][0]                  \n",
      "                                                                 flatten_3[0][0]                  \n",
      "__________________________________________________________________________________________________\n",
      "dropout_1 (Dropout)             (None, 13536)        0           concatenate_1[0][0]              \n",
      "__________________________________________________________________________________________________\n",
      "dense_2 (Dense)                 (None, 32)           433184      dropout_1[0][0]                  \n",
      "__________________________________________________________________________________________________\n",
      "dense_3 (Dense)                 (None, 2)            66          dense_2[0][0]                    \n",
      "==================================================================================================\n",
      "Total params: 470,274\n",
      "Trainable params: 470,274\n",
      "Non-trainable params: 0\n",
      "__________________________________________________________________________________________________\n",
      "None\n"
     ]
    }
   ],
   "source": [
    "inputs = Input(shape=(100,1))\n",
    "a = Bidirectional(LSTM(64, return_sequences=True,dropout=0.1,recurrent_dropout=0.1))(inputs)\n",
    "a = Flatten()(a)\n",
    "b = Conv1D(32, kernel_size = 3, padding = \"valid\", input_shape=(100,1))(inputs)\n",
    "b = MaxPooling1D(2)(b)\n",
    "b = Conv1D(32, kernel_size = 3, padding = \"valid\")(b)\n",
    "b = MaxPooling1D(2)(b)\n",
    "b = Flatten()(b)\n",
    "x = concatenate([a,b])\n",
    "x = Dropout(0.2)(x)\n",
    "x = Dense(32, activation='relu')(x)\n",
    "output = Dense(2, activation='softmax')(x)\n",
    "classifier = Model(inputs=inputs, outputs=output)\n",
    "classifier.compile(loss='categorical_crossentropy', optimizer='adam', metrics=['acc'])\n",
    "print(classifier.summary())"
   ]
  },
  {
   "cell_type": "markdown",
   "metadata": {},
   "source": [
    "      - checkpoint: save only best model"
   ]
  },
  {
   "cell_type": "code",
   "execution_count": null,
   "metadata": {},
   "outputs": [],
   "source": [
    "saved_model = \"model_under_sample.hdf5\"\n",
    "checkpoint = ModelCheckpoint(saved_model, monitor='val_acc', verbose=1, save_best_only=True, mode='max')\n",
    "early = EarlyStopping(monitor=\"val_acc\", mode=\"max\", patience=3)\n",
    "callbacks_list = [checkpoint, early]"
   ]
  },
  {
   "cell_type": "markdown",
   "metadata": {},
   "source": [
    "    - training  "
   ]
  },
  {
   "cell_type": "code",
   "execution_count": 58,
   "metadata": {},
   "outputs": [
    {
     "name": "stdout",
     "output_type": "stream",
     "text": [
      "Epoch 1/5\n",
      "2294/2294 [==============================] - ETA: 0s - loss: 0.0528 - acc: 0.9835\n",
      "Epoch 00001: val_acc improved from -inf to 0.98038, saving model to model_under_sample.hdf5\n",
      "2294/2294 [==============================] - 1286s 561ms/step - loss: 0.0528 - acc: 0.9835 - val_loss: 0.0479 - val_acc: 0.9804\n",
      "Epoch 2/5\n",
      "2294/2294 [==============================] - ETA: 0s - loss: 0.0123 - acc: 0.9967\n",
      "Epoch 00002: val_acc improved from 0.98038 to 0.99188, saving model to model_under_sample.hdf5\n",
      "2294/2294 [==============================] - 1285s 560ms/step - loss: 0.0123 - acc: 0.9967 - val_loss: 0.0213 - val_acc: 0.9919\n",
      "Epoch 3/5\n",
      "2294/2294 [==============================] - ETA: 0s - loss: 0.0073 - acc: 0.9980\n",
      "Epoch 00003: val_acc improved from 0.99188 to 0.99613, saving model to model_under_sample.hdf5\n",
      "2294/2294 [==============================] - 1285s 560ms/step - loss: 0.0073 - acc: 0.9980 - val_loss: 0.0107 - val_acc: 0.9961\n",
      "Epoch 4/5\n",
      "2294/2294 [==============================] - ETA: 0s - loss: 0.0052 - acc: 0.9986\n",
      "Epoch 00004: val_acc improved from 0.99613 to 0.99717, saving model to model_under_sample.hdf5\n",
      "2294/2294 [==============================] - 1285s 560ms/step - loss: 0.0052 - acc: 0.9986 - val_loss: 0.0089 - val_acc: 0.9972\n",
      "Epoch 5/5\n",
      "2294/2294 [==============================] - ETA: 0s - loss: 0.0031 - acc: 0.9991\n",
      "Epoch 00005: val_acc improved from 0.99717 to 0.99880, saving model to model_under_sample.hdf5\n",
      "2294/2294 [==============================] - 1286s 561ms/step - loss: 0.0031 - acc: 0.9991 - val_loss: 0.0041 - val_acc: 0.9988\n"
     ]
    }
   ],
   "source": [
    "history = classifier.fit(X_over1, y_over1, validation_split=0.2, epochs=5, batch_size=32, verbose=1, callbacks = callbacks_list)"
   ]
  },
  {
   "cell_type": "markdown",
   "metadata": {},
   "source": [
    "     - define function for plot loss and accuracy during training"
   ]
  },
  {
   "cell_type": "code",
   "execution_count": 59,
   "metadata": {},
   "outputs": [],
   "source": [
    "def trainingLoss(history):\n",
    "    plt.style.use('ggplot')\n",
    "    plt.plot(history.history['acc'])\n",
    "    plt.plot(history.history['val_acc'])\n",
    "    plt.title('')\n",
    "    plt.ylabel('Accuracy')\n",
    "    plt.xlabel('Epochs')\n",
    "    plt.legend(['train', 'validation'], loc='upper left')\n",
    "    plt.savefig('tarin1.png', bbox_inches='tight')\n",
    "    plt.show()\n",
    "    plt.style.use('ggplot')\n",
    "    plt.plot(history.history['loss'])\n",
    "    plt.plot(history.history['val_loss'])\n",
    "    plt.title('')\n",
    "    plt.ylabel('Loss')\n",
    "    plt.xlabel('Epochs')\n",
    "    plt.legend(['train', 'validation'], loc='upper left')\n",
    "    plt.savefig('tarin2.png', )\n",
    "    plt.show()"
   ]
  },
  {
   "cell_type": "markdown",
   "metadata": {},
   "source": [
    "    - plot training graphs"
   ]
  },
  {
   "cell_type": "code",
   "execution_count": 62,
   "metadata": {},
   "outputs": [
    {
     "data": {
      "image/png": "[encoded data removed]",
      "text/plain": [
       "<Figure size 432x288 with 1 Axes>"
      ]
     },
     "metadata": {},
     "output_type": "display_data"
    },
    {
     "data": {
      "image/png": "[encoded data removed]",
      "text/plain": [
       "<Figure size 432x288 with 1 Axes>"
      ]
     },
     "metadata": {},
     "output_type": "display_data"
    }
   ],
   "source": [
    "trainingLoss(history)"
   ]
  }
 ],
 "metadata": {
  "kernelspec": {
   "display_name": "Python 3",
   "language": "python",
   "name": "python3"
  },
  "language_info": {
   "codemirror_mode": {
    "name": "ipython",
    "version": 3
   },
   "file_extension": ".py",
   "mimetype": "text/x-python",
   "name": "python",
   "nbconvert_exporter": "python",
   "pygments_lexer": "ipython3",
   "version": "3.8.6"
  }
 },
 "nbformat": 4,
 "nbformat_minor": 4
}
